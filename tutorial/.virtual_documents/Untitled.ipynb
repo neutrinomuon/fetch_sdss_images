# How to use the fetch_sdss_images library
import sys

# Add the directory containing the library to the Python path
library_path = '../src/python'
sys.path.append(library_path)

# Now you can import the library
import download_sdss_images


download_sdss_images.main()


download_sdss_images.main('objects.txt')


import matplotlib.pyplot as plt
import matplotlib.image as mpimg

# Load the PNG image
image_path = 'NGC5145.jpg'
image = mpimg.imread(image_path)

# Display the image
# Create a larger figure
plt.figure(figsize=(10, 10))  # Adjust the size as needed

plt.imshow(image)
plt.axis('off')  # Turn off axis
plt.show()



