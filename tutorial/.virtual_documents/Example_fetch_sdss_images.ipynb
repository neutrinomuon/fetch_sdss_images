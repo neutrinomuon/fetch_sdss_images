# How to use the fetch_sdss_images library
import sys

# Add the directory containing the library to the Python path
library_path = '../src/python'
sys.path.append(library_path)

# Now you can import the library
import download_sdss_images


download_sdss_images.main()


# Open the file in read mode and print its content
with open('objects.txt', 'r') as file:
    # Read the contents of the file
    file_contents = file.read()

# Print the contents of the file
print(file_contents)


download_sdss_images.main(filename='objects.txt')


import matplotlib.pyplot as plt
import matplotlib.image as mpimg

# Load the SDSS image
# There are no options used, so it uses the default.
image_path = 'NGC5145.jpg'
image = mpimg.imread(image_path)

# Display the image
# Create a larger figure
plt.figure(figsize=(10, 10))  # Adjust the size as needed

plt.imshow(image)
plt.axis('off')  # Turn off axis
plt.show()


# Now, we will download using, for example, options GLS 
# GLS stand for 
# G -> Grid
# L -> Information on navigation window
# S -> Highlight spectroscopic objects 

# If you have doubts, then just type download_sdss_images.main() -> empty or
# print(download_sdss_images.main.__doc__)


download_sdss_images.main(filename='objects.txt',
                          scale=0.20,
                          width=650,
                          height=650,
                          default_opts='GLS',
                          data_release='dr12')


import matplotlib.pyplot as plt
import matplotlib.image as mpimg

# Load the SDSS image
# There are no options used, so it uses the default.
image_path = 'NGC5145.jpg'
image = mpimg.imread(image_path)

# Display the image
# Create a larger figure
plt.figure(figsize=(10, 10))  # Adjust the size as needed

plt.imshow(image)
plt.axis('off')  # Turn off axis
plt.show()



